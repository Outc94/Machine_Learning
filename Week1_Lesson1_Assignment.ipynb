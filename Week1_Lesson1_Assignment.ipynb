{
 "cells": [
  {
   "cell_type": "markdown",
   "metadata": {},
   "source": [
    "# Week 1 Lesson 1 Assignment"
   ]
  },
  {
   "cell_type": "markdown",
   "metadata": {},
   "source": [
    "## Problem 1"
   ]
  },
  {
   "cell_type": "code",
   "execution_count": 1,
   "metadata": {},
   "outputs": [],
   "source": [
    "def calculate_rice_grains(n):\n",
    "    return 2 **(n-1)"
   ]
  },
  {
   "cell_type": "code",
   "execution_count": 2,
   "metadata": {},
   "outputs": [],
   "source": [
    "import numpy as np\n",
    "def calculate_rice_grains_again(n):\n",
    "    grains = []\n",
    "    for i in range(n):\n",
    "        grains.append(calculate_rice_grains(i+1))\n",
    "    return grains"
   ]
  },
  {
   "cell_type": "markdown",
   "metadata": {},
   "source": [
    "- Now let's output the number of rice grains on 100th day"
   ]
  },
  {
   "cell_type": "code",
   "execution_count": 3,
   "metadata": {},
   "outputs": [
    {
     "name": "stdout",
     "output_type": "stream",
     "text": [
      "The number of rice grains on the 100th day is: 1267650600228229401496703205375\n"
     ]
    }
   ],
   "source": [
    "print(\"The number of rice grains on the 100th day is: {}\".format(sum(calculate_rice_grains_again(100))))"
   ]
  },
  {
   "cell_type": "markdown",
   "metadata": {},
   "source": [
    "## Problem 2"
   ]
  },
  {
   "cell_type": "code",
   "execution_count": 6,
   "metadata": {},
   "outputs": [
    {
     "data": {
      "text/plain": [
       "<matplotlib.legend.Legend at 0x11116bb10>"
      ]
     },
     "execution_count": 6,
     "metadata": {},
     "output_type": "execute_result"
    },
    {
     "data": {
      "image/png": "[encoded data removed]",
      "text/plain": [
       "<Figure size 432x288 with 1 Axes>"
      ]
     },
     "metadata": {
      "needs_background": "light"
     },
     "output_type": "display_data"
    }
   ],
   "source": [
    "import matplotlib.pyplot as plt\n",
    "%matplotlib inline\n",
    "def compute_sorori_shinzaemon(day = 100):\n",
    "\n",
    "    list_n_grains = [1]\n",
    "    list_total_grains = [1]\n",
    "\n",
    "    for i in range(1, day):\n",
    "        list_n_grains.append(2 ** i)\n",
    "        list_total_grains.append(list_total_grains[i - 1] + 2 ** i)\n",
    "    \n",
    "    return list_n_grains, list_total_grains\n",
    "\n",
    "days = 150\n",
    "list_n_grains, list_total_grains = compute_sorori_shinzaemon(day = days)\n",
    "\n",
    "plt.title(\"Total Grains\", size=14)\n",
    "plt.xlabel(\"Days\", size=14)\n",
    "plt.ylabel(\"Grains\", size=14)\n",
    "plt.plot(list_n_grains, color='crimson',linewidth=3,label = \"list_n_grains\")\n",
    "plt.plot(list_total_grains,color='green',linewidth=3,label = \"list_total_grains\")\n",
    "plt.legend()"
   ]
  },
  {
   "cell_type": "markdown",
   "metadata": {},
   "source": [
    "- Let's answer the question of how many rice grains will be received after the 100th day"
   ]
  },
  {
   "cell_type": "code",
   "execution_count": 7,
   "metadata": {},
   "outputs": [
    {
     "name": "stdout",
     "output_type": "stream",
     "text": [
      "Total rice grains received on the 150th day：1427247692705959881058285969449495136382746623\n"
     ]
    }
   ],
   "source": [
    "print(\"Total rice grains received on the 150th day：\" + str(list_total_grains[-1]))"
   ]
  },
  {
   "cell_type": "markdown",
   "metadata": {},
   "source": [
    "## Problem 3"
   ]
  },
  {
   "cell_type": "markdown",
   "metadata": {},
   "source": [
    "- Let's say that the number of grains that a person can eat a day is **12000 grains**\n",
    "> Reference: https://www.quora.com/How-many-grains-of-rice-are-sufficient-to-feed-all-humans"
   ]
  },
  {
   "cell_type": "code",
   "execution_count": 9,
   "metadata": {
    "scrolled": true
   },
   "outputs": [
    {
     "name": "stdout",
     "output_type": "stream",
     "text": [
      "20 persons can live 5946865386274832837742858206039563068261 days with that amount of rice grains\n"
     ]
    }
   ],
   "source": [
    "#Now let's try to see how many days can live 20 people with the previous total rice grains (150th day)\n",
    "def live_with_rice(rice_grains, persons): \n",
    "    daily_grains = 12000 * persons\n",
    "    return rice_grains // daily_grains\n",
    "\n",
    "print(\"20 persons can live\" + str(\" {}\".format(live_with_rice(list_total_grains[-1], 20))) + \" days with that amount of rice grains\" )"
   ]
  },
  {
   "cell_type": "code",
   "execution_count": null,
   "metadata": {},
   "outputs": [],
   "source": []
  }
 ],
 "metadata": {
  "kernelspec": {
   "display_name": "Python 3",
   "language": "python",
   "name": "python3"
  },
  "language_info": {
   "codemirror_mode": {
    "name": "ipython",
    "version": 3
   },
   "file_extension": ".py",
   "mimetype": "text/x-python",
   "name": "python",
   "nbconvert_exporter": "python",
   "pygments_lexer": "ipython3",
   "version": "3.7.4"
  }
 },
 "nbformat": 4,
 "nbformat_minor": 2
}
