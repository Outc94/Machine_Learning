{
 "cells": [
  {
   "cell_type": "markdown",
   "metadata": {},
   "source": [
    "# Week 2 Pre-Class Assignment 3"
   ]
  },
  {
   "cell_type": "markdown",
   "metadata": {},
   "source": [
    "## Problem 1"
   ]
  },
  {
   "cell_type": "code",
   "execution_count": 1,
   "metadata": {},
   "outputs": [],
   "source": [
    "import numpy as np\n",
    "a_ndarray = np.array([[-1, 2, 3], [4, -5, 6], [7, 8, -9]])\n",
    "b_ndarray = np.array([[0, 2, 1], [0, 2, -8], [2, 9, -1]])"
   ]
  },
  {
   "cell_type": "markdown",
   "metadata": {},
   "source": [
    "We will explain the calculation process of the matrix poduct (using the above matrix)\n",
    "- Let's say that the result of the product of matrix A and matrix B is matrix C.\n",
    "- Let's also say that matrix is as follow: c_ndarray = np.array([[c11, c12, c13], [c21, c22, c23], [c31, c32, c33]])\n",
    "- Now, let's calculate the values manually.\n",
    "    - c11 = (-1)(0) + 2(0) + 3(2) = **6** \n",
    "    - c12 = (-1)(2) + 2(2) + 3(9) = **29**\n",
    "    - c13 = (-1)(1) + 2(-8) + 3(-1) = **-20**\n",
    "    - c21 = 4(0) + (-5)(0) + 6(2) = **12**\n",
    "    - c22 = 4(2) + (-5)(2) + 6(9) = **52**\n",
    "    - c23 = 4(1) + (-5)(-8) + 6(-1) = **38**\n",
    "    - c31 = 7(0) + 8(0) + (-9)2 = **-18**\n",
    "    - c32 = 7(2) + 8(2) + (-9)(9) = **-51**\n",
    "    - c33 = 7(1) + 8(-8) + (-9)(-1) = **-48**"
   ]
  },
  {
   "cell_type": "markdown",
   "metadata": {},
   "source": [
    "## Problem 2"
   ]
  },
  {
   "cell_type": "code",
   "execution_count": 2,
   "metadata": {},
   "outputs": [
    {
     "data": {
      "text/plain": [
       "array([[  6,  29, -20],\n",
       "       [ 12,  52,  38],\n",
       "       [-18, -51, -48]])"
      ]
     },
     "execution_count": 2,
     "metadata": {},
     "output_type": "execute_result"
    }
   ],
   "source": [
    "np.dot(a_ndarray,b_ndarray)"
   ]
  },
  {
   "cell_type": "markdown",
   "metadata": {},
   "source": [
    "## Problem 3"
   ]
  },
  {
   "cell_type": "code",
   "execution_count": 6,
   "metadata": {},
   "outputs": [
    {
     "name": "stdout",
     "output_type": "stream",
     "text": [
      "The value of Oth raw and 0th column after the product of Matrix A and B is: 6\n"
     ]
    }
   ],
   "source": [
    "C = np.zeros((3,3))\n",
    "valueof_0th_raw_and_column = 0\n",
    "for i in range(C.shape[0]):\n",
    "    valueof_0th_raw_and_column += a_ndarray[0,i] * b_ndarray[i,0]\n",
    "print('The value of Oth raw and 0th column after the product of Matrix A and B is: {}'.format(valueof_0th_raw_and_column))"
   ]
  },
  {
   "cell_type": "markdown",
   "metadata": {},
   "source": [
    "## Problem 4"
   ]
  },
  {
   "cell_type": "code",
   "execution_count": 8,
   "metadata": {},
   "outputs": [],
   "source": [
    "def matrix_multiplication(a,b):\n",
    "    C = np.zeros((a.shape[0],b.shape[1]))\n",
    "    for i in range(C.shape[0]):\n",
    "        for j in range(C.shape[1]):\n",
    "            for k in range(a.shape[1]):\n",
    "                 C[i,j] += a[i,k]*b[k,j]\n",
    "    return C"
   ]
  },
  {
   "cell_type": "code",
   "execution_count": 9,
   "metadata": {
    "scrolled": true
   },
   "outputs": [
    {
     "data": {
      "text/plain": [
       "array([[ 12.,  52.,  38.],\n",
       "       [-18., -51., -48.]])"
      ]
     },
     "execution_count": 9,
     "metadata": {},
     "output_type": "execute_result"
    }
   ],
   "source": [
    "matrix_multiplication(a_ndarray[1:,:],b_ndarray)"
   ]
  },
  {
   "cell_type": "markdown",
   "metadata": {},
   "source": [
    "- As we can see in the last result, it is possible to perform the multiplication even when the number of columns of A isn't equal to the number of rows of B. We will sove this issue on the next problem"
   ]
  },
  {
   "cell_type": "markdown",
   "metadata": {},
   "source": [
    "## Problem 5"
   ]
  },
  {
   "cell_type": "code",
   "execution_count": 12,
   "metadata": {},
   "outputs": [],
   "source": [
    "def better_matrix_multiplication(a,b):\n",
    "    C = np.zeros((a.shape[0],b.shape[1]))\n",
    "    if a.shape[1] == b.shape[0]:\n",
    "        for i in range(C.shape[0]):\n",
    "            for j in range(C.shape[1]):\n",
    "                for k in range(a.shape[1]):\n",
    "                    C[i,j] += a[i,k]*b[k,j]\n",
    "        return C\n",
    "    else:\n",
    "        print('The number of columns of the first matrix is different from the number of colums of the other one. You are trying a product of {} and {}.'.format(a.shape,b.shape)) \n",
    "        return None"
   ]
  },
  {
   "cell_type": "markdown",
   "metadata": {},
   "source": [
    "- Now let's check the function with the given examples in the curriculum (D and E)"
   ]
  },
  {
   "cell_type": "code",
   "execution_count": 13,
   "metadata": {},
   "outputs": [
    {
     "name": "stdout",
     "output_type": "stream",
     "text": [
      "The number of columns of the first matrix is different from the number of colums of the other one. You are trying a product of (2, 3) and (2, 3).\n"
     ]
    }
   ],
   "source": [
    "d_ndarray_ = np.array([[-1, 2, 3], [4, -5, 6]])\n",
    "e_ndarray = np.array([[-9, 8, 7], [6, -5, 4]])\n",
    "better_matrix_multiplication(d_ndarray_,e_ndarray)"
   ]
  },
  {
   "cell_type": "markdown",
   "metadata": {},
   "source": [
    "## Problem 6"
   ]
  },
  {
   "cell_type": "code",
   "execution_count": 15,
   "metadata": {},
   "outputs": [
    {
     "name": "stdout",
     "output_type": "stream",
     "text": [
      "[[ 33 -28   9]\n",
      " [-48  41  -6]\n",
      " [  9  -6  45]]\n"
     ]
    }
   ],
   "source": [
    "print(np.dot(d_ndarray_.T,e_ndarray))"
   ]
  },
  {
   "cell_type": "code",
   "execution_count": null,
   "metadata": {},
   "outputs": [],
   "source": []
  }
 ],
 "metadata": {
  "kernelspec": {
   "display_name": "Python 3",
   "language": "python",
   "name": "python3"
  },
  "language_info": {
   "codemirror_mode": {
    "name": "ipython",
    "version": 3
   },
   "file_extension": ".py",
   "mimetype": "text/x-python",
   "name": "python",
   "nbconvert_exporter": "python",
   "pygments_lexer": "ipython3",
   "version": "3.7.4"
  }
 },
 "nbformat": 4,
 "nbformat_minor": 2
}
