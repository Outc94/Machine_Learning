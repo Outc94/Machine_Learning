{
 "cells": [
  {
   "cell_type": "markdown",
   "metadata": {},
   "source": [
    "# Week 4 Pre-Class Assignment 3"
   ]
  },
  {
   "cell_type": "markdown",
   "metadata": {},
   "source": [
    "## Problem 1"
   ]
  },
  {
   "cell_type": "markdown",
   "metadata": {},
   "source": [
    "Let's enumerate one or more classes from Pandas, matplotlib and scikit-learn we have been using in the previous tasks"
   ]
  },
  {
   "cell_type": "markdown",
   "metadata": {},
   "source": [
    "- Pandas: DataFrame, Series\n",
    "- Matplotlib: figure,pyplot\n",
    "- scikit-learn: LogisticRegression, Imputer"
   ]
  },
  {
   "cell_type": "markdown",
   "metadata": {},
   "source": [
    "## Problem 2"
   ]
  },
  {
   "cell_type": "markdown",
   "metadata": {},
   "source": [
    "Let's explain what kind of method and instance variable we have been using in the previous tasks"
   ]
  },
  {
   "cell_type": "markdown",
   "metadata": {},
   "source": [
    "- Method\n",
    "    - unique,array, zeros, ones, fit, predict, score ,len(), concatnate(), vstack(), hstack(), reshape()\n",
    "\n",
    "- Instance variables\n",
    "    - shape, index, columns, values, keys, dtypes, values, loc, iloc, coef_, ndim, shape, size, mean, var "
   ]
  },
  {
   "cell_type": "markdown",
   "metadata": {},
   "source": [
    "## Problem 3"
   ]
  },
  {
   "cell_type": "code",
   "execution_count": 1,
   "metadata": {},
   "outputs": [],
   "source": [
    "class ScratchStandardScaler():\n",
    "\n",
    "    def fit(self, X):\n",
    "        n = X.shape[0]\n",
    "        self.mean_ =np.sum(X,axis=0)/n\n",
    "        self.var_ =np.sum(np.sqrt((X-self.mean_)**2),axis=0)/n\n",
    "        pass\n",
    "\n",
    "    def transform(self, X):  \n",
    "        X_scaled = (X - self.mean_)/self.var_\n",
    "        pass\n",
    "    \n",
    "        return X_scaled"
   ]
  },
  {
   "cell_type": "code",
   "execution_count": 2,
   "metadata": {},
   "outputs": [
    {
     "name": "stdout",
     "output_type": "stream",
     "text": [
      "Average: [4.86 3.31 1.45 0.22]\n",
      "Variance: [0.228 0.25  0.08  0.052]\n",
      "[[ 1.05263158  0.76       -0.625      -0.38461538]\n",
      " [ 0.1754386  -1.24       -0.625      -0.38461538]\n",
      " [-0.70175439 -0.44       -1.875      -0.38461538]\n",
      " [-1.14035088 -0.84        0.625      -0.38461538]\n",
      " [ 0.61403509  1.16       -0.625      -0.38461538]\n",
      " [ 2.36842105  2.36        3.125       3.46153846]\n",
      " [-1.14035088  0.36       -0.625       1.53846154]\n",
      " [ 0.61403509  0.36        0.625      -0.38461538]\n",
      " [-2.01754386 -1.64       -0.625      -0.38461538]\n",
      " [ 0.1754386  -0.84        0.625      -2.30769231]]\n"
     ]
    }
   ],
   "source": [
    "import numpy as np\n",
    "from sklearn.datasets import load_iris\n",
    "\n",
    "data = load_iris()\n",
    "X = data.data[:10]\n",
    "\n",
    "scratch_scaler = ScratchStandardScaler()\n",
    "scratch_scaler.fit(X)\n",
    "print(\"Average: {}\".format(scratch_scaler.mean_))\n",
    "print(\"Variance: {}\".format(scratch_scaler.var_))\n",
    "X_std = scratch_scaler.transform(X)\n",
    "print(X_std)"
   ]
  },
  {
   "cell_type": "markdown",
   "metadata": {},
   "source": [
    "## Problem 4"
   ]
  },
  {
   "cell_type": "code",
   "execution_count": 5,
   "metadata": {},
   "outputs": [
    {
     "name": "stdout",
     "output_type": "stream",
     "text": [
      "Initial value 5 has been set\n",
      "value: 5\n",
      "value: 8\n",
      "value: 6\n",
      "value: 18\n",
      "value: 4.5\n"
     ]
    },
    {
     "ename": "ValueError",
     "evalue": "The value you entered is not correct",
     "output_type": "error",
     "traceback": [
      "\u001b[0;31m---------------------------------------------------------------------------\u001b[0m",
      "\u001b[0;31mValueError\u001b[0m                                Traceback (most recent call last)",
      "\u001b[0;32m<ipython-input-5-c3c3b72ca19a>\u001b[0m in \u001b[0;36m<module>\u001b[0;34m\u001b[0m\n\u001b[1;32m     42\u001b[0m \u001b[0mexample\u001b[0m\u001b[0;34m.\u001b[0m\u001b[0mdivision\u001b[0m\u001b[0;34m(\u001b[0m\u001b[0;36m4\u001b[0m\u001b[0;34m)\u001b[0m\u001b[0;34m\u001b[0m\u001b[0;34m\u001b[0m\u001b[0m\n\u001b[1;32m     43\u001b[0m \u001b[0mprint\u001b[0m\u001b[0;34m(\u001b[0m\u001b[0;34m\"value: {}\"\u001b[0m\u001b[0;34m.\u001b[0m\u001b[0mformat\u001b[0m\u001b[0;34m(\u001b[0m\u001b[0mexample\u001b[0m\u001b[0;34m.\u001b[0m\u001b[0mvalue\u001b[0m\u001b[0;34m)\u001b[0m\u001b[0;34m)\u001b[0m\u001b[0;34m\u001b[0m\u001b[0;34m\u001b[0m\u001b[0m\n\u001b[0;32m---> 44\u001b[0;31m \u001b[0mexample\u001b[0m\u001b[0;34m.\u001b[0m\u001b[0msubstraction\u001b[0m\u001b[0;34m(\u001b[0m\u001b[0;34m\"diopmouhamed\"\u001b[0m\u001b[0;34m)\u001b[0m\u001b[0;34m\u001b[0m\u001b[0;34m\u001b[0m\u001b[0m\n\u001b[0m",
      "\u001b[0;32m<ipython-input-5-c3c3b72ca19a>\u001b[0m in \u001b[0;36msubstraction\u001b[0;34m(self, value3)\u001b[0m\n\u001b[1;32m     10\u001b[0m \u001b[0;34m\u001b[0m\u001b[0m\n\u001b[1;32m     11\u001b[0m     \u001b[0;32mdef\u001b[0m \u001b[0msubstraction\u001b[0m\u001b[0;34m(\u001b[0m\u001b[0mself\u001b[0m\u001b[0;34m,\u001b[0m\u001b[0mvalue3\u001b[0m\u001b[0;34m)\u001b[0m\u001b[0;34m:\u001b[0m\u001b[0;34m\u001b[0m\u001b[0;34m\u001b[0m\u001b[0m\n\u001b[0;32m---> 12\u001b[0;31m         \u001b[0mself\u001b[0m\u001b[0;34m.\u001b[0m\u001b[0mcheck_value\u001b[0m\u001b[0;34m(\u001b[0m\u001b[0mvalue3\u001b[0m\u001b[0;34m)\u001b[0m\u001b[0;34m\u001b[0m\u001b[0;34m\u001b[0m\u001b[0m\n\u001b[0m\u001b[1;32m     13\u001b[0m         \u001b[0mself\u001b[0m\u001b[0;34m.\u001b[0m\u001b[0mvalue\u001b[0m \u001b[0;34m-=\u001b[0m \u001b[0mvalue3\u001b[0m\u001b[0;34m\u001b[0m\u001b[0;34m\u001b[0m\u001b[0m\n\u001b[1;32m     14\u001b[0m \u001b[0;34m\u001b[0m\u001b[0m\n",
      "\u001b[0;32m<ipython-input-5-c3c3b72ca19a>\u001b[0m in \u001b[0;36mcheck_value\u001b[0;34m(self, value6)\u001b[0m\n\u001b[1;32m     28\u001b[0m         \u001b[0;32mif\u001b[0m \u001b[0mtype\u001b[0m\u001b[0;34m(\u001b[0m\u001b[0mvalue6\u001b[0m\u001b[0;34m)\u001b[0m \u001b[0;34m==\u001b[0m \u001b[0mtype\u001b[0m\u001b[0;34m(\u001b[0m\u001b[0mstrsample\u001b[0m\u001b[0;34m)\u001b[0m \u001b[0;32mor\u001b[0m \u001b[0mtype\u001b[0m\u001b[0;34m(\u001b[0m\u001b[0mvalue6\u001b[0m\u001b[0;34m)\u001b[0m \u001b[0;34m==\u001b[0m \u001b[0mtype\u001b[0m\u001b[0;34m(\u001b[0m\u001b[0mlistsample\u001b[0m\u001b[0;34m)\u001b[0m\u001b[0;31m \u001b[0m\u001b[0;31m\\\u001b[0m\u001b[0;34m\u001b[0m\u001b[0;34m\u001b[0m\u001b[0m\n\u001b[1;32m     29\u001b[0m         \u001b[0;32mor\u001b[0m \u001b[0mtype\u001b[0m\u001b[0;34m(\u001b[0m\u001b[0mvalue6\u001b[0m\u001b[0;34m)\u001b[0m  \u001b[0;34m==\u001b[0m \u001b[0mtype\u001b[0m\u001b[0;34m(\u001b[0m\u001b[0marraysample\u001b[0m\u001b[0;34m)\u001b[0m\u001b[0;34m:\u001b[0m\u001b[0;34m\u001b[0m\u001b[0;34m\u001b[0m\u001b[0m\n\u001b[0;32m---> 30\u001b[0;31m             \u001b[0;32mraise\u001b[0m \u001b[0mValueError\u001b[0m\u001b[0;34m(\u001b[0m\u001b[0;34m\"The value you entered is not correct\"\u001b[0m\u001b[0;34m)\u001b[0m\u001b[0;34m\u001b[0m\u001b[0;34m\u001b[0m\u001b[0m\n\u001b[0m\u001b[1;32m     31\u001b[0m \u001b[0;34m\u001b[0m\u001b[0m\n\u001b[1;32m     32\u001b[0m \u001b[0;34m\u001b[0m\u001b[0m\n",
      "\u001b[0;31mValueError\u001b[0m: The value you entered is not correct"
     ]
    }
   ],
   "source": [
    "class ExampleClass():\n",
    "\n",
    "    def __init__(self, value):\n",
    "        self.value = value\n",
    "        print(\"Initial value {} has been set\".format(self.value))\n",
    "        \n",
    "    def add(self, value2):\n",
    "        self.check_value(value2)\n",
    "        self.value += value2\n",
    "    \n",
    "    def substraction(self,value3):\n",
    "        self.check_value(value3)\n",
    "        self.value -= value3\n",
    "    \n",
    "    def multiplication(self,value4):\n",
    "        self.check_value(value4)\n",
    "        self.value *= value4\n",
    "    \n",
    "    def division(self,value5):\n",
    "        self.check_value(value5)\n",
    "        self.value /= value5\n",
    "        \n",
    "    def check_value(self,value6):\n",
    "        strsample = 'ddd'\n",
    "        listsample = [1,2,3]\n",
    "        arraysample = np.array([1,2,3])\n",
    "        \n",
    "        if type(value6) == type(strsample) or type(value6) == type(listsample) \\\n",
    "        or type(value6)  == type(arraysample):\n",
    "            raise ValueError(\"The value you entered is not correct\")\n",
    "            \n",
    "    \n",
    "\n",
    "example = ExampleClass(5)\n",
    "print(\"value: {}\".format(example.value))\n",
    "example.add(3)\n",
    "print(\"value: {}\".format(example.value))\n",
    "example.substraction(2)\n",
    "print(\"value: {}\".format(example.value))\n",
    "example.multiplication(3)\n",
    "print(\"value: {}\".format(example.value))\n",
    "example.division(4)\n",
    "print(\"value: {}\".format(example.value))\n",
    "example.substraction(\"diopmouhamed\")"
   ]
  }
 ],
 "metadata": {
  "kernelspec": {
   "display_name": "Python 3",
   "language": "python",
   "name": "python3"
  },
  "language_info": {
   "codemirror_mode": {
    "name": "ipython",
    "version": 3
   },
   "file_extension": ".py",
   "mimetype": "text/x-python",
   "name": "python",
   "nbconvert_exporter": "python",
   "pygments_lexer": "ipython3",
   "version": "3.7.4"
  }
 },
 "nbformat": 4,
 "nbformat_minor": 2
}
