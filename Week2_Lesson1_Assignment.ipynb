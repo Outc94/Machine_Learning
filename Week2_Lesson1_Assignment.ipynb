{
 "cells": [
  {
   "cell_type": "markdown",
   "metadata": {},
   "source": [
    "# Week 2 Lesson 1 Assignment"
   ]
  },
  {
   "cell_type": "markdown",
   "metadata": {},
   "source": [
    "## Problem 1"
   ]
  },
  {
   "cell_type": "code",
   "execution_count": 6,
   "metadata": {},
   "outputs": [],
   "source": [
    "import numpy as np\n",
    "import matplotlib.pyplot as plt\n",
    "%matplotlib inline\n",
    "\n",
    "x = np.arange(-50,50.1,0.1)\n",
    "y = np.array([(1/2) * i + 1 for i in x])"
   ]
  },
  {
   "cell_type": "code",
   "execution_count": 3,
   "metadata": {},
   "outputs": [
    {
     "data": {
      "text/plain": [
       "array([-50. , -49.9, -49.8, ...,  49.8,  49.9,  50. ])"
      ]
     },
     "execution_count": 3,
     "metadata": {},
     "output_type": "execute_result"
    }
   ],
   "source": [
    "x"
   ]
  },
  {
   "cell_type": "code",
   "execution_count": 4,
   "metadata": {},
   "outputs": [
    {
     "data": {
      "text/plain": [
       "array([-24.  , -23.95, -23.9 , ...,  25.9 ,  25.95,  26.  ])"
      ]
     },
     "execution_count": 4,
     "metadata": {},
     "output_type": "execute_result"
    }
   ],
   "source": [
    "y"
   ]
  },
  {
   "cell_type": "markdown",
   "metadata": {},
   "source": [
    "## Problem 2"
   ]
  },
  {
   "cell_type": "code",
   "execution_count": 7,
   "metadata": {},
   "outputs": [
    {
     "data": {
      "text/plain": [
       "(1001, 2)"
      ]
     },
     "execution_count": 7,
     "metadata": {},
     "output_type": "execute_result"
    }
   ],
   "source": [
    "comb_xy = np.vstack([x,y]).T\n",
    "comb_xy.shape"
   ]
  },
  {
   "cell_type": "code",
   "execution_count": 8,
   "metadata": {
    "scrolled": true
   },
   "outputs": [
    {
     "data": {
      "text/plain": [
       "array([[-50.  , -24.  ],\n",
       "       [-49.9 , -23.95],\n",
       "       [-49.8 , -23.9 ],\n",
       "       ...,\n",
       "       [ 49.8 ,  25.9 ],\n",
       "       [ 49.9 ,  25.95],\n",
       "       [ 50.  ,  26.  ]])"
      ]
     },
     "execution_count": 8,
     "metadata": {},
     "output_type": "execute_result"
    }
   ],
   "source": [
    "comb_xy"
   ]
  },
  {
   "cell_type": "markdown",
   "metadata": {},
   "source": [
    "## Problem 3"
   ]
  },
  {
   "cell_type": "code",
   "execution_count": 9,
   "metadata": {},
   "outputs": [
    {
     "data": {
      "text/plain": [
       "array([0.5, 0.5, 0.5, 0.5, 0.5, 0.5, 0.5, 0.5, 0.5, 0.5])"
      ]
     },
     "execution_count": 9,
     "metadata": {},
     "output_type": "execute_result"
    }
   ],
   "source": [
    "y_alteration = y[1:]-y[:-1]\n",
    "x_alteration = x[1:]-x[:-1]\n",
    "grad = y_alteration / x_alteration\n",
    "grad[:10]"
   ]
  },
  {
   "cell_type": "markdown",
   "metadata": {},
   "source": [
    "## Problem 4"
   ]
  },
  {
   "cell_type": "code",
   "execution_count": 10,
   "metadata": {},
   "outputs": [
    {
     "data": {
      "text/plain": [
       "[<matplotlib.lines.Line2D at 0x1139a79d0>]"
      ]
     },
     "execution_count": 10,
     "metadata": {},
     "output_type": "execute_result"
    },
    {
     "data": {
      "image/png": "[encoded data removed]",
      "text/plain": [
       "<Figure size 432x288 with 1 Axes>"
      ]
     },
     "metadata": {
      "needs_background": "light"
     },
     "output_type": "display_data"
    }
   ],
   "source": [
    "plt.xlabel(\"x\")\n",
    "plt.ylabel(\"y\")\n",
    "plt.title(\"Linear and gradient functions\")\n",
    "plt.plot(x, y,)\n",
    "plt.plot(x[:-1],grad)"
   ]
  },
  {
   "cell_type": "markdown",
   "metadata": {},
   "source": [
    "## Problem 5"
   ]
  },
  {
   "cell_type": "code",
   "execution_count": 11,
   "metadata": {},
   "outputs": [],
   "source": [
    "def function1(x):\n",
    "    return x**2\n",
    "\n",
    "def function2(x):\n",
    "    return  2 * x**2 + 2 ** x\n",
    "\n",
    "def function3(x):\n",
    "    return np.sin(x**(1/2))"
   ]
  },
  {
   "cell_type": "markdown",
   "metadata": {},
   "source": [
    "- We have expressed the three given functions"
   ]
  },
  {
   "cell_type": "code",
   "execution_count": 12,
   "metadata": {},
   "outputs": [],
   "source": [
    "def compute_gradient(function, x_range):\n",
    "    x = x_range\n",
    "    y = function(x_range)\n",
    "    array_xy  = np.vstack([x, y]).T\n",
    "    y_alteration = y[1:] - y[:-1]\n",
    "    x_alteration = x[1:] - x[:-1]\n",
    "    gradient = y_alteration / x_alteration\n",
    "    return array_xy, gradient"
   ]
  },
  {
   "cell_type": "code",
   "execution_count": 13,
   "metadata": {},
   "outputs": [],
   "source": [
    "array_xy1, gradient1 = compute_gradient(function1, np.arange(-50, 50.1, 0.1))\n",
    "array_xy2, gradient2 = compute_gradient(function2, np.arange(-50, 50.1, 0.1))\n",
    "array_xy3, gradient3 = compute_gradient(function3, np.arange(0, 50.1, 0.1))"
   ]
  },
  {
   "cell_type": "markdown",
   "metadata": {},
   "source": [
    "- Let's use the graph now for the representation of these functions."
   ]
  },
  {
   "cell_type": "code",
   "execution_count": 14,
   "metadata": {},
   "outputs": [
    {
     "data": {
      "image/png": "[encoded data removed]",
      "text/plain": [
       "<Figure size 432x288 with 1 Axes>"
      ]
     },
     "metadata": {
      "needs_background": "light"
     },
     "output_type": "display_data"
    }
   ],
   "source": [
    "plt.title(\"Function 1\")\n",
    "plt.plot(array_xy1[:,0],array_xy1[:,1],color=\"blue\",linewidth=4)\n",
    "plt.plot(array_xy1[:-1,0],gradient1,color=\"crimson\",linewidth=4)\n",
    "plt.show()\n"
   ]
  },
  {
   "cell_type": "code",
   "execution_count": 15,
   "metadata": {},
   "outputs": [
    {
     "data": {
      "image/png": "[encoded data removed]",
      "text/plain": [
       "<Figure size 432x288 with 1 Axes>"
      ]
     },
     "metadata": {
      "needs_background": "light"
     },
     "output_type": "display_data"
    }
   ],
   "source": [
    "plt.title(\"Function 2\")\n",
    "plt.plot(array_xy2[:,0],array_xy2[:,1],color=\"blue\",linewidth=4)\n",
    "plt.plot(array_xy2[:-1,0],gradient2,color=\"crimson\",linewidth=4)\n",
    "plt.show()"
   ]
  },
  {
   "cell_type": "code",
   "execution_count": 42,
   "metadata": {},
   "outputs": [
    {
     "data": {
      "image/png": "[encoded data removed]",
      "text/plain": [
       "<Figure size 432x288 with 1 Axes>"
      ]
     },
     "metadata": {
      "needs_background": "light"
     },
     "output_type": "display_data"
    }
   ],
   "source": [
    "plt.title(\"Function 3\")\n",
    "plt.plot(array_xy3[:,0],array_xy3[:,1],color=\"blue\",linewidth=4)\n",
    "plt.plot(array_xy3[:-1,0],gradient3,color=\"crimson\",linewidth=4)\n",
    "plt.show()"
   ]
  },
  {
   "cell_type": "markdown",
   "metadata": {},
   "source": [
    "## Problem 6"
   ]
  },
  {
   "cell_type": "code",
   "execution_count": 45,
   "metadata": {},
   "outputs": [
    {
     "name": "stdout",
     "output_type": "stream",
     "text": [
      "The minimum value of y for Function 1 is：5.048709793414476e-25\n",
      "Slope before taking the minimum value is: -0.09999999999858034 and after: 0.30000000000142535\n"
     ]
    }
   ],
   "source": [
    "np.min(array_xy1[:,1])\n",
    "np.argmin(array_xy1[:,1])\n",
    "print(\"The minimum value of y for Function 1 is：{}\".format(np.min(array_xy1[:,1])))\n",
    "print(\"Slope before taking the minimum value is: {} and after: {}\".format(gradient1[np.argmin(array_xy1[:,1])-1], gradient1[np.argmin(array_xy1[:, 1])+1]))"
   ]
  },
  {
   "cell_type": "code",
   "execution_count": 16,
   "metadata": {},
   "outputs": [
    {
     "name": "stdout",
     "output_type": "stream",
     "text": [
      "The minimum value of y for Function 2 is：0.9505505632959851\n",
      "Slope before taking the minimum value is: -0.4170183305979998 and after: 0.4696700846350943\n"
     ]
    }
   ],
   "source": [
    "np.min(array_xy2[:,1])\n",
    "np.argmin(array_xy2[:,1])\n",
    "print(\"The minimum value of y for Function 2 is：{}\".format(np.min(array_xy2[:,1])))\n",
    "print(\"Slope before taking the minimum value is: {} and after: {}\".format(gradient2[np.argmin(array_xy2[:,1])-1], gradient2[np.argmin(array_xy2[:, 1])+1]))"
   ]
  },
  {
   "cell_type": "code",
   "execution_count": 48,
   "metadata": {},
   "outputs": [
    {
     "name": "stdout",
     "output_type": "stream",
     "text": [
      "The minimum value of y for Function 3 is：-0.9999997540298113\n",
      "Slope before taking the minimum value is: -0.0006388422559544435 and after: 0.0016061158921243152\n"
     ]
    }
   ],
   "source": [
    "print(\"The minimum value of y for Function 3 is：{}\".format(np.min(array_xy3[:,1])))\n",
    "print(\"Slope before taking the minimum value is: {} and after: {}\".format(gradient3[np.argmin(array_xy3[:,1])-1], gradient3[np.argmin(array_xy3[:, 1])+1]))"
   ]
  },
  {
   "cell_type": "code",
   "execution_count": null,
   "metadata": {},
   "outputs": [],
   "source": []
  }
 ],
 "metadata": {
  "kernelspec": {
   "display_name": "Python 3",
   "language": "python",
   "name": "python3"
  },
  "language_info": {
   "codemirror_mode": {
    "name": "ipython",
    "version": 3
   },
   "file_extension": ".py",
   "mimetype": "text/x-python",
   "name": "python",
   "nbconvert_exporter": "python",
   "pygments_lexer": "ipython3",
   "version": "3.7.4"
  }
 },
 "nbformat": 4,
 "nbformat_minor": 2
}
