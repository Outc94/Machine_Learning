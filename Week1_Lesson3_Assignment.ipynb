{
 "cells": [
  {
   "cell_type": "markdown",
   "metadata": {},
   "source": [
    "# Week 1 Lesson 3 Assignment"
   ]
  },
  {
   "cell_type": "markdown",
   "metadata": {},
   "source": [
    "We will solve the chestnut problem on this Assignment. For that we need some values first.\n",
    "- First, we assume that the radius of the solar system is around 2.50709358e+20 meters. From that we can calculate the volume.\n",
    "- Then, we assume that the volume of the chestnut is 0.0001 cubic meters.\n",
    "> Reference: https://en.wikipedia.org/wiki/Solar_System"
   ]
  },
  {
   "cell_type": "code",
   "execution_count": 8,
   "metadata": {
    "scrolled": true
   },
   "outputs": [],
   "source": [
    "import math\n",
    "CHESTNUT_VOLUME = 10 ** -4\n",
    "SOLAR_SYSTEM_RADIUS = 2.50709358e+20\n",
    "SOLAR_SYSTEM_VOLUME = (4/3) * math.pi * (SOLAR_SYSTEM_RADIUS ** 3) "
   ]
  },
  {
   "cell_type": "code",
   "execution_count": 11,
   "metadata": {},
   "outputs": [],
   "source": [
    "def calculate_duration(volume1, volume2):\n",
    "    time = 0\n",
    "    while volume1 <= volume2:\n",
    "        volume1 = volume1 * 2\n",
    "        time += 5 #The substance doubles every 5 minutes\n",
    "    return time"
   ]
  },
  {
   "cell_type": "markdown",
   "metadata": {},
   "source": [
    "- Now let's just consider the chestnut and the solar systems volumes and output the time."
   ]
  },
  {
   "cell_type": "code",
   "execution_count": 14,
   "metadata": {
    "scrolled": false
   },
   "outputs": [
    {
     "name": "stdout",
     "output_type": "stream",
     "text": [
      "Based on our settings, the universe would be full of chestnut in around 1095 mins\n"
     ]
    }
   ],
   "source": [
    "#To calculate for Tokyo Dome and so on, we just need to set their volume and reuse this function. \n",
    "volume1=CHESTNUT_VOLUME\n",
    "volume2=SOLAR_SYSTEM_VOLUME\n",
    "print(\"Based on our settings, the universe would be full of chestnut in around {} mins\".format(calculate_duration(volume1, volume2)))"
   ]
  },
  {
   "cell_type": "markdown",
   "metadata": {},
   "source": [
    "- Here, we will be using a graph to display the results considering the time the universe is filled with chestnut b y doubling the quantity every 5 minutes."
   ]
  },
  {
   "cell_type": "code",
   "execution_count": 23,
   "metadata": {},
   "outputs": [
    {
     "data": {
      "image/png": "[encoded data removed]",
      "text/plain": [
       "<Figure size 432x288 with 1 Axes>"
      ]
     },
     "metadata": {
      "needs_background": "light"
     },
     "output_type": "display_data"
    }
   ],
   "source": [
    "#Graph of the time we had as result considering the volumes at each time. Therefore we need a list for this part.\n",
    "time = 0\n",
    "volume_list = [volume1]\n",
    "time_list = [0]\n",
    "while volume1 <= volume2:\n",
    "    volume1 = volume1 * 2\n",
    "    volume_list.append(volume1)\n",
    "    time += 5 #The substance doubles every 5 minutes\n",
    "    time_list.append(time)\n",
    "\n",
    "import matplotlib.pyplot as plt\n",
    "%matplotlib inline\n",
    "plt.plot(time_list, volume_list, color='crimson',linewidth=4,linestyle = \"dashed\")\n",
    "plt.title(\"Evolution of the volume in the time\", size = 14)\n",
    "plt.xlabel(\"Minutes\", size = 14)\n",
    "plt.ylabel(\"Volume\", size = 14)\n",
    "plt.grid(True)\n",
    "plt.show()"
   ]
  },
  {
   "cell_type": "code",
   "execution_count": null,
   "metadata": {},
   "outputs": [],
   "source": []
  }
 ],
 "metadata": {
  "kernelspec": {
   "display_name": "Python 3",
   "language": "python",
   "name": "python3"
  },
  "language_info": {
   "codemirror_mode": {
    "name": "ipython",
    "version": 3
   },
   "file_extension": ".py",
   "mimetype": "text/x-python",
   "name": "python",
   "nbconvert_exporter": "python",
   "pygments_lexer": "ipython3",
   "version": "3.7.4"
  }
 },
 "nbformat": 4,
 "nbformat_minor": 2
}
