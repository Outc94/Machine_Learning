{
 "cells": [
  {
   "cell_type": "markdown",
   "metadata": {},
   "source": [
    "# Week_1 Pre Assignment 1\n",
    "\n",
    "## Problem 1"
   ]
  },
  {
   "cell_type": "code",
   "execution_count": 1,
   "metadata": {},
   "outputs": [
    {
     "name": "stdout",
     "output_type": "stream",
     "text": [
      "Thickness: 703687441.77664 meters\n"
     ]
    }
   ],
   "source": [
    "THICKNESS = 0.00008\n",
    "folded_thickness = THICKNESS*2**43\n",
    "print ( \"Thickness: {} meters\" .format (folded_thickness))"
   ]
  },
  {
   "cell_type": "markdown",
   "metadata": {},
   "source": [
    "## Problem 2"
   ]
  },
  {
   "cell_type": "code",
   "execution_count": 3,
   "metadata": {},
   "outputs": [
    {
     "name": "stdout",
     "output_type": "stream",
     "text": [
      "Thickness:  70.37 * 10000 kilometers\n",
      "Reaches the moon\n"
     ]
    }
   ],
   "source": [
    " print ( \"Thickness: {: .2f} * 10000 kilometers\" .format (folded_thickness / 10000000 ))\n",
    "import numpy as  np\n",
    "max_distance_moon = 40 * (10**7) #we consider that the distance of the moon is 400000km\n",
    "print(np.where(folded_thickness >= max_distance_moon, \"Reaches the moon\",\"Doesn't reach the moon\"))"
   ]
  },
  {
   "cell_type": "markdown",
   "metadata": {},
   "source": [
    "## Problem 3"
   ]
  },
  {
   "cell_type": "code",
   "execution_count": 4,
   "metadata": {},
   "outputs": [
    {
     "name": "stdout",
     "output_type": "stream",
     "text": [
      "Thickness:  70.37 * 10000 kilometers\n"
     ]
    }
   ],
   "source": [
    "for i in range(43):\n",
    "    if i == 0:\n",
    "            folded_thickness = THICKNESS * 2\n",
    "    else:\n",
    "        folded_thickness *= 2\n",
    "\n",
    "print(\"Thickness: {: .2f} * 10000 kilometers\".format(folded_thickness/10000000))"
   ]
  },
  {
   "cell_type": "markdown",
   "metadata": {},
   "source": [
    "## Problem 4"
   ]
  },
  {
   "cell_type": "code",
   "execution_count": 5,
   "metadata": {},
   "outputs": [
    {
     "name": "stdout",
     "output_type": "stream",
     "text": [
      "Thickness:  70.37 * 10000 kilometers\n",
      "time : 0.0002079010009765625[s]\n",
      "Thickness:  70.37 * 10000 kilometers\n",
      "time : 8.511543273925781e-05[s]\n"
     ]
    }
   ],
   "source": [
    "#for the loop calculation\n",
    "def loop_calculation(THICKNESS=0.00008,loop=43):    \n",
    "    for i in range(loop):\n",
    "        if i == 0:\n",
    "                folded_thickness = THICKNESS * 2\n",
    "        else:\n",
    "            folded_thickness *= 2\n",
    "    return folded_thickness\n",
    "    \n",
    "#for the exponential calculation\n",
    "def power_calculation(THICKNESS=0.00008,power=43):\n",
    "    folded_thickness = THICKNESS*2**power\n",
    "    return folded_thickness\n",
    "\n",
    "import time \n",
    "start = time.time()\n",
    "print(\"Thickness: {: .2f} * 10000 kilometers\".format(loop_calculation()/10000000))\n",
    "elapsed_time = time.time() - start\n",
    "print(\"time : {}[s]\".format(elapsed_time))\n",
    "\n",
    "start = time.time()\n",
    "print(\"Thickness: {: .2f} * 10000 kilometers\".format(power_calculation()/10000000))\n",
    "elapsed_time = time.time() - start\n",
    "print(\"time : {}[s]\".format(elapsed_time))"
   ]
  },
  {
   "cell_type": "markdown",
   "metadata": {},
   "source": [
    "-  The calculation time using exponentiation arithmetic operators is better."
   ]
  },
  {
   "cell_type": "markdown",
   "metadata": {},
   "source": [
    "## Problem 5"
   ]
  },
  {
   "cell_type": "code",
   "execution_count": 6,
   "metadata": {},
   "outputs": [
    {
     "name": "stdout",
     "output_type": "stream",
     "text": [
      "44\n"
     ]
    }
   ],
   "source": [
    "#Saving the calculation result in a list\n",
    "def loop_calculation_save(THICKNESS=0.00008,loop=43):\n",
    "    cal_list = []\n",
    "    cal_list.append(THICKNESS)\n",
    "    for i in range(loop):\n",
    "        if i == 0:\n",
    "                folded_thickness = THICKNESS * 2\n",
    "                cal_list.append(folded_thickness)\n",
    "                \n",
    "        else:\n",
    "            folded_thickness *= 2\n",
    "            cal_list.append(folded_thickness)\n",
    "            \n",
    "    return cal_list\n",
    "\n",
    "#Printing the number of values that should be 44\n",
    "print(len(loop_calculation_save()))"
   ]
  },
  {
   "cell_type": "markdown",
   "metadata": {},
   "source": [
    "## Problem 6"
   ]
  },
  {
   "cell_type": "code",
   "execution_count": 7,
   "metadata": {},
   "outputs": [
    {
     "data": {
      "image/png": "[encoded data removed]",
      "text/plain": [
       "<Figure size 432x288 with 1 Axes>"
      ]
     },
     "metadata": {
      "needs_background": "light"
     },
     "output_type": "display_data"
    }
   ],
   "source": [
    "import matplotlib.pyplot as plt\n",
    "%matplotlib inline\n",
    "\n",
    "cal_list = loop_calculation_save()\n",
    "plt.plot(cal_list)\n",
    "\n",
    "plt.title(\"thickness of folded paper\")\n",
    "plt.xlabel(\"number of folds\")\n",
    "plt.ylabel(\"thickness[m]\")\n",
    "plt.show()"
   ]
  },
  {
   "cell_type": "markdown",
   "metadata": {},
   "source": [
    "- As we can see, until 40 folds, the thickness increases but not as drastic as it shows after. From 40 folds, it increases gradually."
   ]
  },
  {
   "cell_type": "markdown",
   "metadata": {},
   "source": [
    "## Problem 7"
   ]
  },
  {
   "cell_type": "code",
   "execution_count": 8,
   "metadata": {},
   "outputs": [
    {
     "data": {
      "image/png": "[encoded data removed]",
      "text/plain": [
       "<Figure size 432x288 with 1 Axes>"
      ]
     },
     "metadata": {
      "needs_background": "light"
     },
     "output_type": "display_data"
    }
   ],
   "source": [
    "#Line color other than blue and red\n",
    "cal_list = loop_calculation_save()\n",
    "plt.plot(cal_list,color='green')\n",
    "\n",
    "plt.title(\"thickness of folded paper\")\n",
    "plt.xlabel(\"number of folds\")\n",
    "plt.ylabel(\"thickness[m]\")\n",
    "plt.show()"
   ]
  },
  {
   "cell_type": "code",
   "execution_count": 9,
   "metadata": {},
   "outputs": [
    {
     "data": {
      "image/png": "[encoded data removed]",
      "text/plain": [
       "<Figure size 432x288 with 1 Axes>"
      ]
     },
     "metadata": {
      "needs_background": "light"
     },
     "output_type": "display_data"
    }
   ],
   "source": [
    "#Make the line thicker\n",
    "cal_list = loop_calculation_save()\n",
    "plt.plot(cal_list,color='green',linewidth=5)\n",
    "\n",
    "plt.title(\"thickness of folded paper\")\n",
    "plt.xlabel(\"number of folds\")\n",
    "plt.ylabel(\"thickness[m]\")\n",
    "plt.show()"
   ]
  },
  {
   "cell_type": "code",
   "execution_count": 10,
   "metadata": {},
   "outputs": [
    {
     "data": {
      "image/png": "[encoded data removed]",
      "text/plain": [
       "<Figure size 432x288 with 1 Axes>"
      ]
     },
     "metadata": {
      "needs_background": "light"
     },
     "output_type": "display_data"
    }
   ],
   "source": [
    "#Make the line dotted\n",
    "cal_list = loop_calculation_save()\n",
    "plt.plot(cal_list,color='green',linewidth=5,linestyle = \"--\")\n",
    "\n",
    "plt.title(\"thickness of folded paper\")\n",
    "plt.xlabel(\"number of folds\")\n",
    "plt.ylabel(\"thickness[m]\")\n",
    "plt.show()"
   ]
  },
  {
   "cell_type": "code",
   "execution_count": 11,
   "metadata": {},
   "outputs": [
    {
     "data": {
      "image/png": "[encoded data removed]",
      "text/plain": [
       "<Figure size 432x288 with 1 Axes>"
      ]
     },
     "metadata": {
      "needs_background": "light"
     },
     "output_type": "display_data"
    }
   ],
   "source": [
    "#Change the font size of the value\n",
    "cal_list = loop_calculation_save()\n",
    "plt.plot(cal_list,color='crimson',linewidth=4,linestyle = \"dashed\")\n",
    "\n",
    "plt.title(\"thickness of folded paper\", size = 14)\n",
    "plt.xlabel(\"number of folds\", size = 14)\n",
    "plt.ylabel(\"thickness[m]\", size = 14)\n",
    "plt.grid(True)\n",
    "plt.show()"
   ]
  },
  {
   "cell_type": "code",
   "execution_count": null,
   "metadata": {},
   "outputs": [],
   "source": []
  }
 ],
 "metadata": {
  "kernelspec": {
   "display_name": "Python 3",
   "language": "python",
   "name": "python3"
  },
  "language_info": {
   "codemirror_mode": {
    "name": "ipython",
    "version": 3
   },
   "file_extension": ".py",
   "mimetype": "text/x-python",
   "name": "python",
   "nbconvert_exporter": "python",
   "pygments_lexer": "ipython3",
   "version": "3.7.4"
  }
 },
 "nbformat": 4,
 "nbformat_minor": 2
}
