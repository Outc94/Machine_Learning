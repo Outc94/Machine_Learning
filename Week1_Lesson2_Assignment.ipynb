{
 "cells": [
  {
   "cell_type": "markdown",
   "metadata": {},
   "source": [
    "# Week 1 Lesson 2 Assignment"
   ]
  },
  {
   "cell_type": "markdown",
   "metadata": {},
   "source": [
    "## Problem 1"
   ]
  },
  {
   "cell_type": "code",
   "execution_count": 42,
   "metadata": {},
   "outputs": [
    {
     "name": "stdout",
     "output_type": "stream",
     "text": [
      "The number of times the paper will fold when the thickness exceeds Mt. Fuji is: 26\n"
     ]
    }
   ],
   "source": [
    "THICKNESS = 0.00008\n",
    "fold = 0\n",
    "fuji = 3776\n",
    "while THICKNESS  < fuji:\n",
    "    THICKNESS *= 2\n",
    "    fold +=1\n",
    "print(f'The number of times the paper will fold when the thickness exceeds Mt. Fuji is: {fold}')"
   ]
  },
  {
   "cell_type": "markdown",
   "metadata": {},
   "source": [
    "## Problem 2"
   ]
  },
  {
   "cell_type": "code",
   "execution_count": 81,
   "metadata": {},
   "outputs": [],
   "source": [
    "def arbitrary_calculation(distance, thickness = 0.00008):\n",
    "    fold = 0\n",
    "    folded_thickness = thickness\n",
    "    while distance >= folded_thickness:\n",
    "        folded_thickness *= 2\n",
    "        fold += 1\n",
    "    return fold"
   ]
  },
  {
   "cell_type": "markdown",
   "metadata": {},
   "source": [
    "- Now let's use the function to caluclate how many times you have to bend the paper to reach the closest star.\n",
    "- The distance of the closest start is around 3.970 e+16 \n",
    "> Reference (The 5th row of the Solar System Part): http://www.ebyte.it/library/educards/constants/ConstantsOfPhysicsAndMath.html "
   ]
  },
  {
   "cell_type": "code",
   "execution_count": 82,
   "metadata": {},
   "outputs": [
    {
     "name": "stdout",
     "output_type": "stream",
     "text": [
      "The number of times to bend the paper to reach the closest start is: 69\n"
     ]
    }
   ],
   "source": [
    "print('The number of times to bend the paper to reach the closest start is: {:}'.format(arbitrary_calculation(3.970e+16)))"
   ]
  },
  {
   "cell_type": "markdown",
   "metadata": {},
   "source": [
    "## Problem 3"
   ]
  },
  {
   "cell_type": "code",
   "execution_count": 87,
   "metadata": {},
   "outputs": [],
   "source": [
    "import math\n",
    "def required_paper_length(distance, thickness = 0.00008):\n",
    "    fold = arbitrary_calculation(distance)\n",
    "    length = (math.pi * thickness / 6) * (2**fold + 4)*(2**fold - 1)\n",
    "    return length"
   ]
  },
  {
   "cell_type": "markdown",
   "metadata": {},
   "source": [
    "- Now that we know the distance of the closest start and Mt.Fuji, we will just add the distance to reach the moon which is 384400km\n",
    "> Reference (took the average): https://www.space.com/18145-how-far-is-the-moon.html"
   ]
  },
  {
   "cell_type": "code",
   "execution_count": 88,
   "metadata": {},
   "outputs": [
    {
     "name": "stdout",
     "output_type": "stream",
     "text": [
      "The length of paper needed to reach the Moon is: 3.240919444170781e+21 meters\n",
      "The length of paper needed to reach Mt.Fuji is: 188646348487.24017 meters\n",
      "The length of paper needed to reach the closest star is: 1.4595803601100348e+37 meters\n"
     ]
    }
   ],
   "source": [
    "moon=384400000 #For the moon\n",
    "arbitrary_calculation(moon)\n",
    "star=3.970e+16 #Closest Star\n",
    "print('The length of paper needed to reach the Moon is: {} meters'.format(required_paper_length(moon)))\n",
    "print('The length of paper needed to reach Mt.Fuji is: {} meters'.format(required_paper_length(fuji)))\n",
    "print('The length of paper needed to reach the closest star is: {} meters'.format(required_paper_length(star)))"
   ]
  },
  {
   "cell_type": "code",
   "execution_count": null,
   "metadata": {},
   "outputs": [],
   "source": []
  }
 ],
 "metadata": {
  "kernelspec": {
   "display_name": "Python 3",
   "language": "python",
   "name": "python3"
  },
  "language_info": {
   "codemirror_mode": {
    "name": "ipython",
    "version": 3
   },
   "file_extension": ".py",
   "mimetype": "text/x-python",
   "name": "python",
   "nbconvert_exporter": "python",
   "pygments_lexer": "ipython3",
   "version": "3.7.4"
  }
 },
 "nbformat": 4,
 "nbformat_minor": 2
}
